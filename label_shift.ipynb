{
 "cells": [
  {
   "cell_type": "markdown",
   "metadata": {},
   "source": [
    "<p>\n",
    "    <strong>Idea</strong>: Combine <a href=\"https://arxiv.org/pdf/1802.03916.pdf\">BBSE (Lipton et al ICML '18)</a> with <a href=\"https://arxiv.org/pdf/2007.08479.pdf\">MALLS' (Zhao et al AISTATS '21)</a> subsampling technique while using <a href=\"http://proceedings.mlr.press/v70/finn17a/finn17a.pdf\">MAML (Finn et al ICML '17)</a> to reduce bias in importance sampling weights learned from medial distribution and focus on domain adaptation on label shift.\n",
    "</p>"
   ]
  },
  {
   "cell_type": "code",
   "execution_count": 1,
   "metadata": {},
   "outputs": [],
   "source": [
    "import numpy as np\n",
    "import scipy\n",
    "import pandas as pd\n",
    "import matplotlib.pyplot as plt\n",
    "\n",
    "import tqdm\n",
    "import math\n",
    "import time\n",
    "from collections import Counter, deque, OrderedDict\n",
    "\n",
    "from sklearn.datasets import load_digits\n",
    "from sklearn.model_selection import train_test_split\n",
    "from sklearn.metrics import accuracy_score, confusion_matrix\n",
    "from sklearn.neighbors import KNeighborsClassifier\n",
    "\n",
    "import torch\n",
    "import torch.nn as nn\n",
    "import torch.nn.functional as F\n",
    "\n",
    "from model import Network\n",
    "from maml import MAML"
   ]
  },
  {
   "cell_type": "code",
   "execution_count": 2,
   "metadata": {},
   "outputs": [],
   "source": [
    "#set reproducibility\n",
    "np.random.seed(0)\n",
    "_ = torch.manual_seed(0)"
   ]
  },
  {
   "cell_type": "code",
   "execution_count": 3,
   "metadata": {},
   "outputs": [],
   "source": [
    "X, y = load_digits(return_X_y=True) #multiclassification"
   ]
  },
  {
   "cell_type": "code",
   "execution_count": 4,
   "metadata": {},
   "outputs": [],
   "source": [
    "test_ratio = 0.2\n",
    "X_train, X_test, y_train, y_test = train_test_split(X, y, test_size=test_ratio, random_state=42)"
   ]
  },
  {
   "cell_type": "markdown",
   "metadata": {},
   "source": [
    "## Create Imbalanced Dataset"
   ]
  },
  {
   "cell_type": "code",
   "execution_count": 5,
   "metadata": {},
   "outputs": [],
   "source": [
    "def group_by_label(y):\n",
    "    \"\"\" Groups data by label and returns indices per label \"\"\"\n",
    "    label_dict = {}\n",
    "    for i in range(len(y)):\n",
    "        if y[i] in label_dict:\n",
    "            label_dict[y[i]].append(i)\n",
    "        else: \n",
    "            label_dict[y[i]] = [i]\n",
    "        \n",
    "    return dict(OrderedDict(sorted(label_dict.items())))"
   ]
  },
  {
   "cell_type": "code",
   "execution_count": 6,
   "metadata": {},
   "outputs": [],
   "source": [
    "def dirichlet_distribution(alpha, idx_by_label, size, no_change=False):\n",
    "    \"\"\" Create Imbalanced data using dirichlet distribution \"\"\"\n",
    "    class_composition = np.array([len(idx_by_label[k]) for k in sorted(idx_by_label.keys())], np.int64)\n",
    "    print(\"Original Class composition: \", class_composition)\n",
    "    \n",
    "    if no_change:\n",
    "        dataset = []\n",
    "        for v in idx_by_label.values():\n",
    "            dataset += v\n",
    "        return dataset\n",
    "    \n",
    "    distribution = np.random.dirichlet([alpha]*len(idx_by_label), size=())\n",
    "    idx_by_label = idx_by_label.copy()\n",
    "    \n",
    "    \n",
    "    #Group data by label\n",
    "    for label in idx_by_label:\n",
    "        class_size = math.ceil(size * distribution[label])\n",
    "        if not class_size:\n",
    "            class_size = 1 #min number to support A.2 assumption (BBSE ICML '18)\n",
    "        indices = np.random.randint(0,\n",
    "                                   len(idx_by_label[label]),\n",
    "                                   size=(class_size, ))\n",
    "        idx_by_label[label] = np.unique([idx_by_label[label][i] for i in indices]).tolist()\n",
    "    \n",
    "    class_composition = np.array([len(idx_by_label[k]) for k in sorted(idx_by_label.keys())], np.int64)\n",
    "    print(\"Shifted Class composition: \", class_composition)\n",
    "        \n",
    "    #Build new dataset of indices\n",
    "    dataset = []\n",
    "    for v in idx_by_label.values():\n",
    "        dataset += v\n",
    "    return dataset #shifted distribution"
   ]
  },
  {
   "cell_type": "code",
   "execution_count": 7,
   "metadata": {},
   "outputs": [],
   "source": [
    "idx_by_label = group_by_label(y_train) #label : [indices of all labels]"
   ]
  },
  {
   "cell_type": "code",
   "execution_count": 8,
   "metadata": {
    "scrolled": true
   },
   "outputs": [],
   "source": [
    "train_ratio = 1\n",
    "data_cap = int(X_train.shape[0])\n",
    "size = int(data_cap * (train_ratio / (train_ratio + 1)))"
   ]
  },
  {
   "cell_type": "code",
   "execution_count": 9,
   "metadata": {},
   "outputs": [
    {
     "name": "stdout",
     "output_type": "stream",
     "text": [
      "Original Class composition:  [145 154 144 149 135 135 146 145 144 140]\n",
      "Shifted Class composition:  [  2   3   1   1 135  52   3   1   1  43]\n"
     ]
    }
   ],
   "source": [
    "shifted_dist_idx = dirichlet_distribution(alpha=0.1, idx_by_label=idx_by_label, size=size, no_change=False)"
   ]
  },
  {
   "cell_type": "code",
   "execution_count": 10,
   "metadata": {},
   "outputs": [],
   "source": [
    "def get_distribution(labels):\n",
    "    \"\"\" Returns the distribution of classes as ratios \"\"\"\n",
    "    dist = dict(Counter(labels))\n",
    "    total_size = 0\n",
    "    for key, value in dist.items():\n",
    "        total_size += value\n",
    "    \n",
    "    for key in dist:\n",
    "        dist[key] /= total_size\n",
    "        \n",
    "    return dict(OrderedDict(sorted(dist.items())))"
   ]
  },
  {
   "cell_type": "code",
   "execution_count": 11,
   "metadata": {},
   "outputs": [
    {
     "data": {
      "image/png": "[encoded data removed]",
      "text/plain": [
       "<Figure size 432x288 with 1 Axes>"
      ]
     },
     "metadata": {
      "needs_background": "light"
     },
     "output_type": "display_data"
    },
    {
     "data": {
      "image/png": "[encoded data removed]",
      "text/plain": [
       "<Figure size 432x288 with 1 Axes>"
      ]
     },
     "metadata": {
      "needs_background": "light"
     },
     "output_type": "display_data"
    }
   ],
   "source": [
    "### Original Distribution\n",
    "plt.bar(x=np.unique(y_train), height=get_distribution(y_train).values())\n",
    "plt.title(\"Original Distribution\")\n",
    "plt.xlabel(\"Class\")\n",
    "plt.ylabel(\"PMF\")\n",
    "plt.grid()\n",
    "plt.show()\n",
    "\n",
    "### Shifted Distribution\n",
    "plt.bar(x=np.unique(y_train[shifted_dist_idx]), height=get_distribution(y_train[shifted_dist_idx]).values())\n",
    "plt.title(\"Shifted Distribution\")\n",
    "plt.xlabel(\"Class label\")\n",
    "plt.ylabel(\"PMF\")\n",
    "plt.grid()\n",
    "plt.show()"
   ]
  },
  {
   "cell_type": "markdown",
   "metadata": {},
   "source": [
    "## Sync With Data"
   ]
  },
  {
   "cell_type": "code",
   "execution_count": 12,
   "metadata": {},
   "outputs": [],
   "source": [
    "### No subsampling - take source Dist.\n",
    "X_train, y_train = X_train[shifted_dist_idx], y_train[shifted_dist_idx]"
   ]
  },
  {
   "cell_type": "code",
   "execution_count": 13,
   "metadata": {},
   "outputs": [],
   "source": [
    "#Get source (train) and target (test) label distributions\n",
    "dist_train = get_distribution(y_train)\n",
    "dist_test  = get_distribution(y_test)\n",
    "\n",
    "# print(f\"Train distribution : {dist_train}\")\n",
    "# print(f\"Test distribution : {dist_test}\")"
   ]
  },
  {
   "cell_type": "markdown",
   "metadata": {},
   "source": [
    "## Train Model"
   ]
  },
  {
   "cell_type": "code",
   "execution_count": 14,
   "metadata": {},
   "outputs": [],
   "source": [
    "device = torch.device(\"cuda:0\" if torch.cuda.is_available() else \"cpu\") #Enable cuda if available"
   ]
  },
  {
   "cell_type": "code",
   "execution_count": 15,
   "metadata": {},
   "outputs": [],
   "source": [
    "##typecast to tensors\n",
    "X_train = torch.DoubleTensor(X_train).to(device)\n",
    "X_test = torch.DoubleTensor(X_test).to(device)\n",
    "y_train = torch.LongTensor(y_train).to(device)\n",
    "y_test = torch.LongTensor(y_test).to(device)"
   ]
  },
  {
   "cell_type": "code",
   "execution_count": 16,
   "metadata": {},
   "outputs": [],
   "source": [
    "# implement backprop\n",
    "loss_function = nn.CrossEntropyLoss()"
   ]
  },
  {
   "cell_type": "code",
   "execution_count": 17,
   "metadata": {},
   "outputs": [],
   "source": [
    "def train(data, epochs=500, epsilon=1e-2, print_st=False):\n",
    "    \"\"\"\n",
    "    Train the model.\n",
    "    Assumes access to global variable: loss function\n",
    "    \"\"\"\n",
    "    X_train, y_train = data #extract info\n",
    "    \n",
    "    start_time = time.time()\n",
    "    losses = []\n",
    "\n",
    "    model = Network().to(device) #load local model\n",
    "    optimizer = torch.optim.Adam(model.parameters(), lr=0.005)\n",
    "    \n",
    "    for i in range(epochs):\n",
    "        y_pred = model(X_train)\n",
    "        loss = loss_function(y_pred, y_train)\n",
    "        losses.append(loss)\n",
    "        \n",
    "        if loss.item() < epsilon:\n",
    "            if print_st:\n",
    "                print(f\"Model Converged at epoch {i + 1}, loss = {loss.item()}\")\n",
    "            break\n",
    "            \n",
    "        optimizer.zero_grad()\n",
    "        loss.backward()\n",
    "        optimizer.step()\n",
    "    if print_st:\n",
    "        print(f\"Total training time (sec): {time.time() - start_time}, loss - {loss.item()}\")\n",
    "\n",
    "    return model, losses"
   ]
  },
  {
   "cell_type": "code",
   "execution_count": 18,
   "metadata": {
    "scrolled": true
   },
   "outputs": [
    {
     "name": "stdout",
     "output_type": "stream",
     "text": [
      "Model Converged at epoch 178, loss = 0.009809070721121475\n",
      "Total training time (sec): 0.22939801216125488, loss - 0.009809070721121475\n"
     ]
    }
   ],
   "source": [
    "model_normal, cost = train((X_train, y_train), print_st=True)"
   ]
  },
  {
   "cell_type": "code",
   "execution_count": 19,
   "metadata": {},
   "outputs": [
    {
     "data": {
      "image/png": "[encoded data removed]",
      "text/plain": [
       "<Figure size 432x288 with 1 Axes>"
      ]
     },
     "metadata": {
      "needs_background": "light"
     },
     "output_type": "display_data"
    }
   ],
   "source": [
    "#graph cost\n",
    "plt.plot(cost)\n",
    "plt.xlabel(\"epoch\")\n",
    "plt.ylabel(\"Loss\")\n",
    "plt.title(\"Full Batch Training Cost\")\n",
    "plt.grid()\n",
    "plt.show()"
   ]
  },
  {
   "cell_type": "markdown",
   "metadata": {},
   "source": [
    "### Test Model"
   ]
  },
  {
   "cell_type": "code",
   "execution_count": 20,
   "metadata": {},
   "outputs": [],
   "source": [
    "def predict(model):\n",
    "    \"\"\" Predict accuracy => y_hat = f(x). \"\"\"\n",
    "    \n",
    "    model.eval() #set to evaluation mode\n",
    "    # predict X_test data\n",
    "    predictions=[]\n",
    "    with torch.no_grad():\n",
    "        for i, data in enumerate(X_test):\n",
    "            y_pred = model(data)\n",
    "            predictions.append(y_pred.argmax().item())\n",
    "\n",
    "    predictions = np.array(predictions, dtype=np.int16)\n",
    "    score = accuracy_score(y_test, predictions)\n",
    "    return score, predictions"
   ]
  },
  {
   "cell_type": "code",
   "execution_count": 21,
   "metadata": {},
   "outputs": [
    {
     "name": "stdout",
     "output_type": "stream",
     "text": [
      "Test Accuracy : 0.5972222222222222\n"
     ]
    }
   ],
   "source": [
    "### Estimated distribution\n",
    "score, predictions = predict(model_normal)\n",
    "print(f\"Test Accuracy : {score}\")"
   ]
  },
  {
   "cell_type": "markdown",
   "metadata": {},
   "source": [
    "# MALLS - Subsampling"
   ]
  },
  {
   "cell_type": "markdown",
   "metadata": {},
   "source": [
    "<p> instead of directly going from imbalanced source to target using IW, let's convert the source to a more uniform distribution (medial distribution) and then compute the Label Shift + IW on that.</p>\n",
    "<p> Creating uniform distribution from imbalanced dataset using <a href=''https://en.wikipedia.org/wiki/Probability_integral_transform>Probability integral transform</a> </p>"
   ]
  },
  {
   "cell_type": "code",
   "execution_count": 22,
   "metadata": {},
   "outputs": [],
   "source": [
    "biased_probs = 1. / np.array(list(dist_train.values()))\n",
    "biased_probs /= np.sum(biased_probs)"
   ]
  },
  {
   "cell_type": "code",
   "execution_count": 23,
   "metadata": {},
   "outputs": [],
   "source": [
    "p = np.zeros(y_train.shape)\n",
    "\n",
    "for i in range(len(p)):\n",
    "    p[i] = biased_probs[y_train[i]]\n",
    "\n",
    "p /= p.sum()"
   ]
  },
  {
   "cell_type": "code",
   "execution_count": 24,
   "metadata": {},
   "outputs": [],
   "source": [
    "medial_idx = np.random.choice(np.arange(len(y_train)), size=y_train.shape, replace=True, p=p)"
   ]
  },
  {
   "cell_type": "code",
   "execution_count": 25,
   "metadata": {
    "scrolled": true
   },
   "outputs": [
    {
     "data": {
      "image/png": "[encoded data removed]",
      "text/plain": [
       "<Figure size 432x288 with 1 Axes>"
      ]
     },
     "metadata": {
      "needs_background": "light"
     },
     "output_type": "display_data"
    }
   ],
   "source": [
    "### Medial Distribution\n",
    "plt.bar(x=np.unique(y_train[medial_idx]), height=get_distribution(y_train[medial_idx].numpy()).values())\n",
    "plt.title(\"Medial Distribution\")\n",
    "plt.xlabel(\"Class label\")\n",
    "plt.ylabel(\"PMF\")\n",
    "plt.grid()\n",
    "plt.show()"
   ]
  },
  {
   "cell_type": "code",
   "execution_count": 26,
   "metadata": {},
   "outputs": [],
   "source": [
    "### Subsampling - take Medial Dist.\n",
    "X_train, y_train = X_train[medial_idx], y_train[medial_idx]"
   ]
  },
  {
   "cell_type": "markdown",
   "metadata": {},
   "source": [
    "# BSSE - Label Shift IW"
   ]
  },
  {
   "cell_type": "code",
   "execution_count": 27,
   "metadata": {},
   "outputs": [],
   "source": [
    "delta = 1e-3 #0 < delta < 1/k where k = number of classes.\n",
    "validation_ratio = 0.5\n",
    "\n",
    "data = X_train.clone(), y_train.clone() #store original training distribution.\n",
    "\n",
    "#Split training into training (source) and validation (hold-out)\n",
    "X_train, X_validation, y_train, y_validation = train_test_split(X_train, y_train, test_size=validation_ratio, random_state=42)"
   ]
  },
  {
   "cell_type": "code",
   "execution_count": 28,
   "metadata": {},
   "outputs": [
    {
     "name": "stdout",
     "output_type": "stream",
     "text": [
      "Model Converged at epoch 45, loss = 0.009065130474115703\n",
      "Total training time (sec): 0.03884601593017578, loss - 0.009065130474115703\n",
      "No IW test score : 0.7527777777777778\n"
     ]
    }
   ],
   "source": [
    "### obtain classifier by training on X_train, y_train\n",
    "f, cost = train((X_train, y_train), print_st=True)\n",
    "### Estimated distribution\n",
    "score, _ = predict(f)\n",
    "print(f\"No IW test score : {score}\")"
   ]
  },
  {
   "cell_type": "code",
   "execution_count": 29,
   "metadata": {
    "scrolled": true
   },
   "outputs": [
    {
     "data": {
      "image/png": "[encoded data removed]",
      "text/plain": [
       "<Figure size 432x288 with 1 Axes>"
      ]
     },
     "metadata": {
      "needs_background": "light"
     },
     "output_type": "display_data"
    }
   ],
   "source": [
    "#graph cost\n",
    "plt.plot(cost)\n",
    "plt.xlabel(\"epoch\")\n",
    "plt.ylabel(\"Loss\")\n",
    "plt.title(\"Source Only Cost\")\n",
    "plt.grid()\n",
    "plt.show()"
   ]
  },
  {
   "cell_type": "markdown",
   "metadata": {},
   "source": [
    "## Generate Label Shift"
   ]
  },
  {
   "cell_type": "code",
   "execution_count": 30,
   "metadata": {},
   "outputs": [],
   "source": [
    "def calculate_confusion_matrix(X, Y):\n",
    "    \"\"\" \n",
    "    Calculates value for \\hat{C}_{\\hat{y}, y}\n",
    "    @Params:\n",
    "    - X : Validation data, i.e. X2\n",
    "    - Y : Validation labels, i.e. Y2\n",
    "    \"\"\"\n",
    "    k = len(np.unique(y)) #number of classes\n",
    "    conf_matrx = np.zeros(shape=(k, k))\n",
    "    #freeze params\n",
    "    f.eval()\n",
    "    predictions=[]\n",
    "    with torch.no_grad():\n",
    "        for i, data in enumerate(X):\n",
    "            y_pred = f(data)\n",
    "            predictions.append(y_pred.argmax().item())\n",
    "    \n",
    "    predictions = np.array(predictions)\n",
    "    for i in range(k):\n",
    "        for j in range(k):    \n",
    "            idxs = np.where((predictions == i) & (Y.numpy() == j))[0]\n",
    "            conf_matrx[i, j] = float(len(idxs) / len(X))\n",
    "    return conf_matrx, k"
   ]
  },
  {
   "cell_type": "code",
   "execution_count": 31,
   "metadata": {},
   "outputs": [],
   "source": [
    "def calculate_target_priors(X, k):\n",
    "    \"\"\" Calculates \\hat{μ}_\\hat{y} \"\"\"\n",
    "    preds = np.array([f(xp).argmax().item() for xp in X], np.int16)\n",
    "    target_priors = np.zeros(k)\n",
    "    for i in range(k):\n",
    "        target_priors[i] = len(np.where(preds == i)[0]) / len(preds)\n",
    "    return target_priors"
   ]
  },
  {
   "cell_type": "code",
   "execution_count": 32,
   "metadata": {},
   "outputs": [],
   "source": [
    "conf_matrix, k = calculate_confusion_matrix(X_validation, y_validation)"
   ]
  },
  {
   "cell_type": "code",
   "execution_count": 33,
   "metadata": {
    "scrolled": true
   },
   "outputs": [],
   "source": [
    "mu = calculate_target_priors(X_test, k)"
   ]
  },
  {
   "cell_type": "code",
   "execution_count": 34,
   "metadata": {},
   "outputs": [],
   "source": [
    "def compute_weights(cmf, target_priors):\n",
    "    \"\"\" Computes label weights \"\"\"\n",
    "    w, _ = np.linalg.eig(cmf + np.random.uniform(0, 1e-3, size=cmf.shape))\n",
    "    \n",
    "    if abs(w.real.min()) <= delta: #non invertible matrix\n",
    "        return np.full(shape=len(target_priors), fill_value=float(1 / len(target_priors)))\n",
    "        \n",
    "    \n",
    "    try:\n",
    "        label_weights = np.linalg.inv(cmf) @ mu\n",
    "    except np.linalg.LinAlgError:\n",
    "        label_weights = np.linalg.inv(cmf + np.random.uniform(0, 1e-3, size=cmf.shape)) @ target_priors\n",
    "    \n",
    "    label_weights = abs(label_weights)\n",
    "    label_weights /= label_weights.sum()\n",
    "    #label_weights[label_weights < 0] = 0 #strictly set rare occurances to 0 instead of abs (see BBSE)\n",
    "    \n",
    "    return label_weights"
   ]
  },
  {
   "cell_type": "code",
   "execution_count": 35,
   "metadata": {},
   "outputs": [],
   "source": [
    "label_weights = compute_weights(conf_matrix, mu)"
   ]
  },
  {
   "cell_type": "code",
   "execution_count": 36,
   "metadata": {},
   "outputs": [
    {
     "name": "stdout",
     "output_type": "stream",
     "text": [
      "0.06003184015208118, 0.052220679664456586, 0.03296006534665701, 0.0756860759812124, 0.12451580242070426, 0.17307425260219897, 0.3003932430222074, 0.04565579422092489, 0.011509864089308796, 0.12395238250024856, "
     ]
    }
   ],
   "source": [
    "for lw in label_weights:\n",
    "    print(float(lw), end=\", \")"
   ]
  },
  {
   "cell_type": "markdown",
   "metadata": {},
   "source": [
    "## Importance Weights Training"
   ]
  },
  {
   "cell_type": "code",
   "execution_count": 37,
   "metadata": {},
   "outputs": [],
   "source": [
    "def train_iw(X, y, network, epochs=500, print_st=True):\n",
    "    \"\"\" Train model using class weights \"\"\"\n",
    "    \n",
    "    start_time = time.time()\n",
    "    m, k = len(X), len(np.unique(y))\n",
    "    \n",
    "    loss_function = nn.CrossEntropyLoss(weight=torch.DoubleTensor(label_weights))\n",
    "    \n",
    "    losses = []\n",
    "    \n",
    "    model = Network().to(device) #load local model\n",
    "    \n",
    "    cloned_params = {}\n",
    "\n",
    "    for layer in network.state_dict():\n",
    "        cloned_params[layer] = network.state_dict()[layer].clone()\n",
    "    \n",
    "    model.load_state_dict(cloned_params)\n",
    "    \n",
    "    optimizer = torch.optim.Adam(model.parameters(), lr=0.005)\n",
    "    \n",
    "    for i in range(epochs):\n",
    "        y_pred = model(X)\n",
    "        loss = loss_function(y_pred, y)\n",
    "        losses.append(loss)\n",
    "        \n",
    "        optimizer.zero_grad()\n",
    "        loss.backward()\n",
    "        optimizer.step()\n",
    "    if print_st:\n",
    "        print(f\"Total training time (sec): {time.time() - start_time}, loss - {loss.item()}\")\n",
    "\n",
    "    return model, losses"
   ]
  },
  {
   "cell_type": "code",
   "execution_count": 38,
   "metadata": {},
   "outputs": [],
   "source": [
    "X_train, y_train = data #regain data"
   ]
  },
  {
   "cell_type": "code",
   "execution_count": 39,
   "metadata": {},
   "outputs": [
    {
     "name": "stdout",
     "output_type": "stream",
     "text": [
      "Total training time (sec): 0.7801401615142822, loss - 3.2336093105712535e-05\n"
     ]
    }
   ],
   "source": [
    "f_weighted, cost = train_iw(X_train, y_train, f)"
   ]
  },
  {
   "cell_type": "code",
   "execution_count": 40,
   "metadata": {},
   "outputs": [
    {
     "data": {
      "image/png": "[encoded data removed]",
      "text/plain": [
       "<Figure size 432x288 with 1 Axes>"
      ]
     },
     "metadata": {
      "needs_background": "light"
     },
     "output_type": "display_data"
    }
   ],
   "source": [
    "#graph cost\n",
    "plt.plot(cost)\n",
    "plt.xlabel(\"epoch\")\n",
    "plt.ylabel(\"Loss\")\n",
    "plt.title(\"Source Only Cost\")\n",
    "plt.grid()\n",
    "plt.show()"
   ]
  },
  {
   "cell_type": "markdown",
   "metadata": {},
   "source": [
    "## Importance Weighting Test"
   ]
  },
  {
   "cell_type": "code",
   "execution_count": 41,
   "metadata": {},
   "outputs": [],
   "source": [
    "def predict_IW(model):\n",
    "    \"\"\" Predict accuracy => y_hat = f(x). Refer to BBSE, ICML '18 \"\"\"\n",
    "    \n",
    "    model.eval() #set to evaluation mode\n",
    "    predictions=[]\n",
    "    with torch.no_grad():\n",
    "        for i, data in enumerate(X_test):\n",
    "            y_pred = model(data)\n",
    "            y_pred *= label_weights #IW softmax\n",
    "            \n",
    "            predictions.append(y_pred.argmax().item())\n",
    "\n",
    "    predictions = np.array(predictions, dtype=np.int16)\n",
    "    score = accuracy_score(y_test, predictions)\n",
    "    return score, predictions"
   ]
  },
  {
   "cell_type": "code",
   "execution_count": 42,
   "metadata": {
    "scrolled": false
   },
   "outputs": [
    {
     "name": "stdout",
     "output_type": "stream",
     "text": [
      "IW test score : 0.6527777777777778\n"
     ]
    }
   ],
   "source": [
    "### Prediction\n",
    "score, _ = predict_IW(f_weighted)\n",
    "print(f\"IW test score : {score}\")"
   ]
  },
  {
   "cell_type": "markdown",
   "metadata": {},
   "source": [
    "# MAML - Importance Weight Bias Reduction"
   ]
  },
  {
   "cell_type": "code",
   "execution_count": 43,
   "metadata": {},
   "outputs": [],
   "source": [
    "### declare maml\n",
    "maml = MAML(X_validation, y_validation, f_weighted, label_weights)\n",
    "\n",
    "num_meta_updates = 100\n",
    "for _ in range(num_meta_updates):\n",
    "    maml.update()"
   ]
  },
  {
   "cell_type": "code",
   "execution_count": 44,
   "metadata": {},
   "outputs": [
    {
     "name": "stdout",
     "output_type": "stream",
     "text": [
      "Updated Weights : [0.99246011 1.03224952 1.08982058 1.11332477 1.04234056 1.17462744\n",
      " 1.26875953 1.0612711  1.04278548 1.10548051]\n"
     ]
    }
   ],
   "source": [
    "label_weights = maml.get_label_weights()\n",
    "print(f\"Updated Weights : {label_weights}\")"
   ]
  },
  {
   "cell_type": "markdown",
   "metadata": {},
   "source": [
    "### Run Predictions with updated weights"
   ]
  },
  {
   "cell_type": "code",
   "execution_count": 45,
   "metadata": {},
   "outputs": [
    {
     "name": "stdout",
     "output_type": "stream",
     "text": [
      "MAML + IW test score : 0.7166666666666667\n"
     ]
    }
   ],
   "source": [
    "### Prediction\n",
    "score, _ = predict_IW(f_weighted)\n",
    "print(f\"MAML + IW test score : {score}\")"
   ]
  }
 ],
 "metadata": {
  "kernelspec": {
   "display_name": "Python 3",
   "language": "python",
   "name": "python3"
  },
  "language_info": {
   "codemirror_mode": {
    "name": "ipython",
    "version": 3
   },
   "file_extension": ".py",
   "mimetype": "text/x-python",
   "name": "python",
   "nbconvert_exporter": "python",
   "pygments_lexer": "ipython3",
   "version": "3.7.6"
  }
 },
 "nbformat": 4,
 "nbformat_minor": 4
}
