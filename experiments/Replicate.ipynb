{
 "cells": [
  {
   "cell_type": "code",
   "execution_count": 1,
   "metadata": {},
   "outputs": [],
   "source": [
    "# run experiments for different values of alpha on source and target distributions"
   ]
  },
  {
   "cell_type": "code",
   "execution_count": 2,
   "metadata": {},
   "outputs": [],
   "source": [
    "import subprocess\n",
    "\n",
    "from tqdm import tqdm\n",
    "import numpy as np\n",
    "import pandas as pd\n",
    "import matplotlib.pyplot as plt"
   ]
  },
  {
   "cell_type": "code",
   "execution_count": 3,
   "metadata": {},
   "outputs": [],
   "source": [
    "#params\n",
    "times = 10\n",
    "shift_alpha = np.arange(0.01, 0.1, 0.01)\n",
    "result = ['oracle', 'naive', 'bbse', 'malls', 'masiw']\n",
    "delta = 1e-9\n",
    "m_updates = 3"
   ]
  },
  {
   "cell_type": "code",
   "execution_count": 4,
   "metadata": {},
   "outputs": [],
   "source": [
    "def get_results(alpha, seed):\n",
    "    cmd = f'python3 masiw.py -source_alpha={alpha} -validation_ratio=0.15 -seed={seed} -keep_source=0 '+\\\n",
    "    f'-target_alpha={alpha} -keep_target=0 -delta={delta} -lambda_rlls=0.9 -meta_updates={m_updates}'\n",
    "    val = str(subprocess.check_output(cmd, shell=True)).splitlines()[0][2:-3].split('\\\\n')\n",
    "    for i, x in enumerate(val):\n",
    "        val[i] = float(x)\n",
    "    return np.array(val)"
   ]
  },
  {
   "cell_type": "code",
   "execution_count": 5,
   "metadata": {},
   "outputs": [],
   "source": [
    "def one_round_alpha(alpha):\n",
    "    alpha_shift = []\n",
    "    for i in range(times):\n",
    "        alpha_shift.append( get_results(alpha, i) )\n",
    "    alpha_shift = np.array(alpha_shift).T    \n",
    "    return np.mean(alpha_shift, axis=1), np.var(alpha_shift, axis=1)"
   ]
  },
  {
   "cell_type": "code",
   "execution_count": null,
   "metadata": {},
   "outputs": [
    {
     "name": "stderr",
     "output_type": "stream",
     "text": [
      "\r",
      "  0%|          | 0/9 [00:00<?, ?it/s]"
     ]
    }
   ],
   "source": [
    "mean_shifts = []\n",
    "std_shifts = []\n",
    "for alpha in tqdm(shift_alpha):\n",
    "    u, sig = one_round_alpha(alpha)\n",
    "    mean_shifts.append(u)\n",
    "    std_shifts.append(sig)\n",
    "    \n",
    "mean_shifts, std_shifts = np.array(mean_shifts).T, np.array(std_shifts).T"
   ]
  },
  {
   "cell_type": "code",
   "execution_count": null,
   "metadata": {
    "scrolled": false
   },
   "outputs": [],
   "source": [
    "plt.figure(figsize=(18, 10))\n",
    "for i, a in enumerate(result):\n",
    "    plt.plot(shift_alpha, mean_shifts[i], label=a)\n",
    "    plt.fill_between(shift_alpha, (mean_shifts[i] - std_shifts[i]), (mean_shifts[i] + std_shifts[i]), alpha=0.2)\n",
    "plt.xlim((0, 0.1))\n",
    "\n",
    "plt.xlabel('Alpha')    \n",
    "plt.ylabel('Test accuracy')\n",
    "plt.title('Source based label shift on MNIST')\n",
    "plt.legend()\n",
    "plt.show()"
   ]
  },
  {
   "cell_type": "code",
   "execution_count": null,
   "metadata": {},
   "outputs": [],
   "source": [
    "elems = {result[i] : [mean_shifts[i], std_shifts[i]] for i in range(len(mean_shifts))}"
   ]
  },
  {
   "cell_type": "code",
   "execution_count": null,
   "metadata": {},
   "outputs": [],
   "source": [
    "# del elems['oracle']\n",
    "del elems['malls']\n",
    "del elems['bbse']"
   ]
  },
  {
   "cell_type": "code",
   "execution_count": null,
   "metadata": {},
   "outputs": [],
   "source": [
    "plt.figure(figsize=(18, 10))\n",
    "for i in elems:\n",
    "    plt.plot(shift_alpha, elems[i][0], label=i)\n",
    "    plt.fill_between(shift_alpha, (elems[i][0] - elems[i][1]), (elems[i][0] + elems[i][1]), alpha=0.2)\n",
    "\n",
    "plt.xlim((0, 0.2))\n",
    "plt.xlabel('Alpha')    \n",
    "plt.ylabel('Test accuracy')\n",
    "plt.title('Source + Target based label shift on MNIST')\n",
    "plt.legend()\n",
    "plt.show()"
   ]
  },
  {
   "cell_type": "code",
   "execution_count": null,
   "metadata": {},
   "outputs": [],
   "source": [
    "pd.DataFrame(mean_shifts.T, columns=result, index=shift_alpha).describe()"
   ]
  }
 ],
 "metadata": {
  "kernelspec": {
   "display_name": "Python 3",
   "language": "python",
   "name": "python3"
  },
  "language_info": {
   "codemirror_mode": {
    "name": "ipython",
    "version": 3
   },
   "file_extension": ".py",
   "mimetype": "text/x-python",
   "name": "python",
   "nbconvert_exporter": "python",
   "pygments_lexer": "ipython3",
   "version": "3.7.6"
  }
 },
 "nbformat": 4,
 "nbformat_minor": 4
}
