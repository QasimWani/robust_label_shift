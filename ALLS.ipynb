{
 "cells": [
  {
   "cell_type": "code",
   "execution_count": 1,
   "metadata": {},
   "outputs": [],
   "source": [
    "### Implementation of Active Learning under Label Shift Zhao AISTATS '21"
   ]
  },
  {
   "cell_type": "code",
   "execution_count": 8,
   "metadata": {},
   "outputs": [],
   "source": [
    "import numpy as np\n",
    "import pandas as pd\n",
    "import matplotlib.pyplot as plt\n",
    "\n",
    "import tqdm\n",
    "from collections import Counter, deque\n",
    "\n",
    "from sklearn.datasets import load_iris\n",
    "from sklearn.model_selection import train_test_split\n",
    "from sklearn.metrics import accuracy_score, confusion_matrix\n",
    "from sklearn.neighbors import KNeighborsClassifier\n",
    "\n",
    "import torch\n",
    "import torch.nn as nn\n",
    "import torch.nn.functional as F"
   ]
  },
  {
   "cell_type": "code",
   "execution_count": 12,
   "metadata": {},
   "outputs": [],
   "source": [
    "X, y = load_iris(return_X_y=True) #multiclassification"
   ]
  },
  {
   "cell_type": "code",
   "execution_count": 17,
   "metadata": {},
   "outputs": [],
   "source": [
    "# set thresholds\n",
    "warm_ratio = 0.2\n",
    "unlabeled_ratio = 0.6\n",
    "test_ratio = 0.2\n",
    "\n",
    "# warm set is now 25% of the entire data set\n",
    "x_warm, x_test, y_warm, y_test = train_test_split(X, y, test_size=1 - warm_ratio)\n",
    "\n",
    "# test is now 15% of the initial data set\n",
    "# unlabeled is now 60% of the initial data set\n",
    "x_unlabeled, x_test, y_unlabeled, y_test = train_test_split(x_test, y_test, test_size=test_ratio/(test_ratio + unlabeled_ratio)) "
   ]
  },
  {
   "cell_type": "code",
   "execution_count": 37,
   "metadata": {},
   "outputs": [],
   "source": [
    "data_dist = dict(Counter(y))"
   ]
  },
  {
   "cell_type": "code",
   "execution_count": 38,
   "metadata": {},
   "outputs": [],
   "source": [
    "def get_distribution(labels):\n",
    "    \"\"\" Returns the distribution of classes as ratios \"\"\"\n",
    "    dist = dict(Counter(labels))\n",
    "    total_size = 0\n",
    "    for key, value in dist.items():\n",
    "        total_size += value\n",
    "    \n",
    "    for key in dist:\n",
    "        dist[key] /= total_size\n",
    "        \n",
    "    return dist"
   ]
  },
  {
   "cell_type": "code",
   "execution_count": 39,
   "metadata": {},
   "outputs": [
    {
     "data": {
      "text/plain": [
       "{0: 0.3333333333333333, 1: 0.3333333333333333, 2: 0.3333333333333333}"
      ]
     },
     "execution_count": 39,
     "metadata": {},
     "output_type": "execute_result"
    }
   ],
   "source": [
    "get_distribution(data_dist)"
   ]
  },
  {
   "cell_type": "code",
   "execution_count": null,
   "metadata": {},
   "outputs": [],
   "source": []
  }
 ],
 "metadata": {
  "kernelspec": {
   "display_name": "Python 3",
   "language": "python",
   "name": "python3"
  },
  "language_info": {
   "codemirror_mode": {
    "name": "ipython",
    "version": 3
   },
   "file_extension": ".py",
   "mimetype": "text/x-python",
   "name": "python",
   "nbconvert_exporter": "python",
   "pygments_lexer": "ipython3",
   "version": "3.7.6"
  }
 },
 "nbformat": 4,
 "nbformat_minor": 4
}
